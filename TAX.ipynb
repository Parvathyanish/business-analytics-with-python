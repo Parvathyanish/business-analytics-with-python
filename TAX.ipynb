{
  "nbformat": 4,
  "nbformat_minor": 0,
  "metadata": {
    "colab": {
      "name": "TAX.ipynb",
      "provenance": []
    },
    "kernelspec": {
      "name": "python3",
      "display_name": "Python 3"
    },
    "language_info": {
      "name": "python"
    }
  },
  "cells": [
    {
      "cell_type": "code",
      "execution_count": null,
      "metadata": {
        "colab": {
          "base_uri": "https://localhost:8080/"
        },
        "id": "tt5O6zi5Q7px",
        "outputId": "e4f61f1e-3a8d-4433-9aee-60f2435b722b"
      },
      "outputs": [
        {
          "name": "stdout",
          "output_type": "stream",
          "text": [
            "enter a number12\n"
          ]
        }
      ],
      "source": [
        "x=input('enter a number')"
      ]
    },
    {
      "cell_type": "code",
      "source": [
        "y=input('enter a number')"
      ],
      "metadata": {
        "colab": {
          "base_uri": "https://localhost:8080/"
        },
        "id": "_34smQ67RDTU",
        "outputId": "88a94d80-ee54-4311-8785-2f97dddda098"
      },
      "execution_count": 28,
      "outputs": [
        {
          "name": "stdout",
          "output_type": "stream",
          "text": [
            "enter a number12\n"
          ]
        }
      ]
    },
    {
      "cell_type": "code",
      "source": [
        "x+y"
      ],
      "metadata": {
        "colab": {
          "base_uri": "https://localhost:8080/",
          "height": 35
        },
        "id": "3eQgkRZXRKiT",
        "outputId": "2e9273c2-4113-4410-d562-c993e9466ab4"
      },
      "execution_count": null,
      "outputs": [
        {
          "output_type": "execute_result",
          "data": {
            "text/plain": [
              "'1212'"
            ],
            "application/vnd.google.colaboratory.intrinsic+json": {
              "type": "string"
            }
          },
          "metadata": {},
          "execution_count": 6
        }
      ]
    },
    {
      "cell_type": "code",
      "source": [
        "int(x)-int(y)"
      ],
      "metadata": {
        "colab": {
          "base_uri": "https://localhost:8080/"
        },
        "id": "GTDRuzu1ROgj",
        "outputId": "87effb29-c243-4d07-a4be-e1102bc86696"
      },
      "execution_count": null,
      "outputs": [
        {
          "output_type": "execute_result",
          "data": {
            "text/plain": [
              "0"
            ]
          },
          "metadata": {},
          "execution_count": 8
        }
      ]
    },
    {
      "cell_type": "code",
      "source": [
        "int(x)/int(y)"
      ],
      "metadata": {
        "colab": {
          "base_uri": "https://localhost:8080/"
        },
        "id": "EyPFEWN6RUbT",
        "outputId": "1409bdb1-0f3e-4ad8-dafe-43a97ae6c32c"
      },
      "execution_count": null,
      "outputs": [
        {
          "output_type": "execute_result",
          "data": {
            "text/plain": [
              "1.0"
            ]
          },
          "metadata": {},
          "execution_count": 10
        }
      ]
    },
    {
      "cell_type": "code",
      "source": [
        "int(x)*int(y)"
      ],
      "metadata": {
        "colab": {
          "base_uri": "https://localhost:8080/"
        },
        "id": "PnIuWqOZRb3z",
        "outputId": "6d243a8e-f866-4007-cab4-cdcfd0d8ad7d"
      },
      "execution_count": null,
      "outputs": [
        {
          "output_type": "execute_result",
          "data": {
            "text/plain": [
              "144"
            ]
          },
          "metadata": {},
          "execution_count": 12
        }
      ]
    },
    {
      "cell_type": "code",
      "source": [
        "x=int(input(\"enter the first number\"))\n",
        "y=int(input(\"enter the second number\"))"
      ],
      "metadata": {
        "colab": {
          "base_uri": "https://localhost:8080/"
        },
        "id": "FzJ4RBc-Rz3n",
        "outputId": "fc9267e1-aead-45e7-a000-37b25c8693b0"
      },
      "execution_count": null,
      "outputs": [
        {
          "name": "stdout",
          "output_type": "stream",
          "text": [
            "enter the first number12\n",
            "enter the second number44\n"
          ]
        }
      ]
    },
    {
      "cell_type": "code",
      "source": [
        "P=int(input(\"enter a number\"))\n",
        "I=int(input(\"enter a number\"))\n",
        "N=int(input(\"enter a number\"))\n",
        "I=P*I*N\n",
        "print(I)\n"
      ],
      "metadata": {
        "colab": {
          "base_uri": "https://localhost:8080/"
        },
        "id": "aZzpQf28Tk6Y",
        "outputId": "541a4951-83ee-43f6-89b8-08ce51c2b7f1"
      },
      "execution_count": null,
      "outputs": [
        {
          "output_type": "stream",
          "name": "stdout",
          "text": [
            "enter a number123\n",
            "enter a number1222\n",
            "enter a number22\n",
            "3306732\n"
          ]
        }
      ]
    },
    {
      "cell_type": "code",
      "source": [
        "X=int(input('ENTER A MARK'))\n"
      ],
      "metadata": {
        "colab": {
          "base_uri": "https://localhost:8080/"
        },
        "id": "7B2LOtlgYFsj",
        "outputId": "8b5d704b-4f3a-4d5f-85c1-b76d3142ff46"
      },
      "execution_count": null,
      "outputs": [
        {
          "name": "stdout",
          "output_type": "stream",
          "text": [
            "ENTER A MARK3444\n"
          ]
        }
      ]
    },
    {
      "cell_type": "code",
      "source": [
        "if X>50:\n",
        "  print(\"you are pass\")\n",
        "if X<50:\n",
        "  print('you are failed')\n",
        "  "
      ],
      "metadata": {
        "colab": {
          "base_uri": "https://localhost:8080/"
        },
        "id": "oMECc5_1Yr43",
        "outputId": "605e2000-f013-4035-b126-33d57fecb1bb"
      },
      "execution_count": null,
      "outputs": [
        {
          "output_type": "stream",
          "name": "stdout",
          "text": [
            "you are pass\n"
          ]
        }
      ]
    },
    {
      "cell_type": "code",
      "source": [
        "salary=int(input(\"enter salary\"))\n",
        "\n"
      ],
      "metadata": {
        "colab": {
          "base_uri": "https://localhost:8080/"
        },
        "id": "ql_eDXwBacJW",
        "outputId": "3185ac40-0092-4c04-84af-851c5ab126e5"
      },
      "execution_count": null,
      "outputs": [
        {
          "name": "stdout",
          "output_type": "stream",
          "text": [
            "enter salary245000\n"
          ]
        }
      ]
    },
    {
      "cell_type": "code",
      "source": [
        "if salary>=250000:\n",
        "  print(\"you are taxable\")\n",
        "if salary<=250000:\n",
        "  print(\"you are not taxable\")\n",
        "  "
      ],
      "metadata": {
        "colab": {
          "base_uri": "https://localhost:8080/"
        },
        "id": "QZu-08fPaxZK",
        "outputId": "5c5a0268-b596-4ad9-f17c-3675046a301c"
      },
      "execution_count": null,
      "outputs": [
        {
          "output_type": "stream",
          "name": "stdout",
          "text": [
            "you are not taxable\n"
          ]
        }
      ]
    },
    {
      "cell_type": "code",
      "source": [
        "\n"
      ],
      "metadata": {
        "id": "5_AZqt1Eet5R"
      },
      "execution_count": null,
      "outputs": []
    }
  ]
}